{
 "cells": [
  {
   "cell_type": "markdown",
   "metadata": {},
   "source": [
    "# Capstone Project - The Battle of Dutch Cities\n",
    "### Applied Data Science Capstone by IBM/Coursera"
   ]
  },
  {
   "cell_type": "markdown",
   "metadata": {},
   "source": [
    "## Table of contents\n",
    "* [Introduction: Business Problem](#introduction)\n",
    "* [Data](#data)\n",
    "* [Methodology](#methodology)\n",
    "* [Analysis](#analysis)\n",
    "* [Results and Discussion](#results)\n",
    "* [Conclusion](#conclusion)"
   ]
  },
  {
   "cell_type": "markdown",
   "metadata": {},
   "source": [
    "## Introduction: Business Problem <a name=\"introduction\"></a>"
   ]
  },
  {
   "cell_type": "markdown",
   "metadata": {},
   "source": [
    "The purpose of this research is to compare all **provincial capitals** of the **Netherlands** on the basis of **facilities and venues**. Note how a few big Dutch cities aren't capitals within it's provice, so Rotterdam and Amsterdam will be included within the data sample as well. The analysis will be specifically based on the **relative frequencies** of venues per city inhabitant.\n",
    "\n",
    "Dutch inhabitants often have conceptions about how for example Amsterdam has a large number of trendy coffee bars. How does this hold for our **Northern cities** if you correct for the number of inhabitants? \n",
    "\n",
    "Using this analysis, several insights can be obtained. We will try to cluster cities based on the relative venue frequencies. As such, one can find comparable cities within a given radius. This can be used for various purposes, including population research, marketing and business propositions.  "
   ]
  },
  {
   "cell_type": "code",
   "execution_count": null,
   "metadata": {},
   "outputs": [],
   "source": []
  }
 ],
 "metadata": {
  "kernelspec": {
   "display_name": "Python 3",
   "language": "python",
   "name": "python3"
  },
  "language_info": {
   "codemirror_mode": {
    "name": "ipython",
    "version": 3
   },
   "file_extension": ".py",
   "mimetype": "text/x-python",
   "name": "python",
   "nbconvert_exporter": "python",
   "pygments_lexer": "ipython3",
   "version": "3.6.8"
  }
 },
 "nbformat": 4,
 "nbformat_minor": 2
}
